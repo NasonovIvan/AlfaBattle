{
 "cells": [
  {
   "cell_type": "code",
   "execution_count": 114,
   "metadata": {},
   "outputs": [],
   "source": [
    "import pandas as pd\n",
    "import torch\n",
    "import torch.nn as nn\n",
    "from torch.utils.data import Dataset, DataLoader\n",
    "from sklearn.model_selection import train_test_split\n",
    "from sklearn.preprocessing import LabelEncoder\n",
    "\n",
    "from tqdm.notebook import tqdm"
   ]
  },
  {
   "cell_type": "code",
   "execution_count": 115,
   "metadata": {},
   "outputs": [],
   "source": [
    "data_path = '../data/alfabattle2_train_transactions_contest/train_transactions_contest/part_000_0_to_23646.parquet'\n",
    "df = pd.read_parquet(data_path, engine='pyarrow')"
   ]
  },
  {
   "cell_type": "code",
   "execution_count": 116,
   "metadata": {},
   "outputs": [
    {
     "data": {
      "text/html": [
       "<div>\n",
       "<style scoped>\n",
       "    .dataframe tbody tr th:only-of-type {\n",
       "        vertical-align: middle;\n",
       "    }\n",
       "\n",
       "    .dataframe tbody tr th {\n",
       "        vertical-align: top;\n",
       "    }\n",
       "\n",
       "    .dataframe thead th {\n",
       "        text-align: right;\n",
       "    }\n",
       "</style>\n",
       "<table border=\"1\" class=\"dataframe\">\n",
       "  <thead>\n",
       "    <tr style=\"text-align: right;\">\n",
       "      <th></th>\n",
       "      <th>app_id</th>\n",
       "      <th>amnt</th>\n",
       "      <th>currency</th>\n",
       "      <th>operation_kind</th>\n",
       "      <th>card_type</th>\n",
       "      <th>operation_type</th>\n",
       "      <th>operation_type_group</th>\n",
       "      <th>ecommerce_flag</th>\n",
       "      <th>payment_system</th>\n",
       "      <th>income_flag</th>\n",
       "      <th>mcc</th>\n",
       "      <th>country</th>\n",
       "      <th>city</th>\n",
       "      <th>mcc_category</th>\n",
       "      <th>day_of_week</th>\n",
       "      <th>hour</th>\n",
       "      <th>days_before</th>\n",
       "      <th>weekofyear</th>\n",
       "      <th>hour_diff</th>\n",
       "      <th>transaction_number</th>\n",
       "    </tr>\n",
       "  </thead>\n",
       "  <tbody>\n",
       "    <tr>\n",
       "      <th>0</th>\n",
       "      <td>0</td>\n",
       "      <td>0.465425</td>\n",
       "      <td>1</td>\n",
       "      <td>4</td>\n",
       "      <td>98</td>\n",
       "      <td>4</td>\n",
       "      <td>2</td>\n",
       "      <td>3</td>\n",
       "      <td>7</td>\n",
       "      <td>3</td>\n",
       "      <td>2</td>\n",
       "      <td>1</td>\n",
       "      <td>37</td>\n",
       "      <td>2</td>\n",
       "      <td>4</td>\n",
       "      <td>19</td>\n",
       "      <td>351</td>\n",
       "      <td>34</td>\n",
       "      <td>-1</td>\n",
       "      <td>1</td>\n",
       "    </tr>\n",
       "    <tr>\n",
       "      <th>1</th>\n",
       "      <td>0</td>\n",
       "      <td>0.000000</td>\n",
       "      <td>1</td>\n",
       "      <td>2</td>\n",
       "      <td>98</td>\n",
       "      <td>7</td>\n",
       "      <td>1</td>\n",
       "      <td>3</td>\n",
       "      <td>7</td>\n",
       "      <td>3</td>\n",
       "      <td>2</td>\n",
       "      <td>1</td>\n",
       "      <td>49</td>\n",
       "      <td>2</td>\n",
       "      <td>4</td>\n",
       "      <td>20</td>\n",
       "      <td>351</td>\n",
       "      <td>34</td>\n",
       "      <td>0</td>\n",
       "      <td>2</td>\n",
       "    </tr>\n",
       "    <tr>\n",
       "      <th>2</th>\n",
       "      <td>0</td>\n",
       "      <td>0.521152</td>\n",
       "      <td>1</td>\n",
       "      <td>2</td>\n",
       "      <td>98</td>\n",
       "      <td>3</td>\n",
       "      <td>1</td>\n",
       "      <td>3</td>\n",
       "      <td>7</td>\n",
       "      <td>3</td>\n",
       "      <td>2</td>\n",
       "      <td>1</td>\n",
       "      <td>37</td>\n",
       "      <td>2</td>\n",
       "      <td>4</td>\n",
       "      <td>20</td>\n",
       "      <td>351</td>\n",
       "      <td>34</td>\n",
       "      <td>0</td>\n",
       "      <td>3</td>\n",
       "    </tr>\n",
       "    <tr>\n",
       "      <th>3</th>\n",
       "      <td>0</td>\n",
       "      <td>0.356078</td>\n",
       "      <td>1</td>\n",
       "      <td>1</td>\n",
       "      <td>5</td>\n",
       "      <td>2</td>\n",
       "      <td>1</td>\n",
       "      <td>3</td>\n",
       "      <td>7</td>\n",
       "      <td>3</td>\n",
       "      <td>10</td>\n",
       "      <td>1</td>\n",
       "      <td>49</td>\n",
       "      <td>7</td>\n",
       "      <td>2</td>\n",
       "      <td>0</td>\n",
       "      <td>348</td>\n",
       "      <td>34</td>\n",
       "      <td>52</td>\n",
       "      <td>4</td>\n",
       "    </tr>\n",
       "    <tr>\n",
       "      <th>4</th>\n",
       "      <td>0</td>\n",
       "      <td>0.000000</td>\n",
       "      <td>1</td>\n",
       "      <td>2</td>\n",
       "      <td>98</td>\n",
       "      <td>7</td>\n",
       "      <td>1</td>\n",
       "      <td>3</td>\n",
       "      <td>7</td>\n",
       "      <td>3</td>\n",
       "      <td>2</td>\n",
       "      <td>1</td>\n",
       "      <td>49</td>\n",
       "      <td>2</td>\n",
       "      <td>4</td>\n",
       "      <td>16</td>\n",
       "      <td>337</td>\n",
       "      <td>53</td>\n",
       "      <td>280</td>\n",
       "      <td>5</td>\n",
       "    </tr>\n",
       "  </tbody>\n",
       "</table>\n",
       "</div>"
      ],
      "text/plain": [
       "   app_id      amnt  currency  operation_kind  card_type  operation_type  \\\n",
       "0       0  0.465425         1               4         98               4   \n",
       "1       0  0.000000         1               2         98               7   \n",
       "2       0  0.521152         1               2         98               3   \n",
       "3       0  0.356078         1               1          5               2   \n",
       "4       0  0.000000         1               2         98               7   \n",
       "\n",
       "   operation_type_group  ecommerce_flag  payment_system  income_flag  mcc  \\\n",
       "0                     2               3               7            3    2   \n",
       "1                     1               3               7            3    2   \n",
       "2                     1               3               7            3    2   \n",
       "3                     1               3               7            3   10   \n",
       "4                     1               3               7            3    2   \n",
       "\n",
       "   country  city  mcc_category  day_of_week  hour  days_before  weekofyear  \\\n",
       "0        1    37             2            4    19          351          34   \n",
       "1        1    49             2            4    20          351          34   \n",
       "2        1    37             2            4    20          351          34   \n",
       "3        1    49             7            2     0          348          34   \n",
       "4        1    49             2            4    16          337          53   \n",
       "\n",
       "   hour_diff  transaction_number  \n",
       "0         -1                   1  \n",
       "1          0                   2  \n",
       "2          0                   3  \n",
       "3         52                   4  \n",
       "4        280                   5  "
      ]
     },
     "execution_count": 116,
     "metadata": {},
     "output_type": "execute_result"
    }
   ],
   "source": [
    "df.head(5)"
   ]
  },
  {
   "cell_type": "code",
   "execution_count": 117,
   "metadata": {},
   "outputs": [],
   "source": [
    "# Encode mcc_category to integers\n",
    "label_encoder_category = LabelEncoder()\n",
    "label_encoder_mcc = LabelEncoder()\n",
    "df['mcc_category_encoded'] = label_encoder_category.fit_transform(df['mcc_category'])\n",
    "df['mcc_encoded'] = label_encoder_mcc.fit_transform(df['mcc'])"
   ]
  },
  {
   "cell_type": "code",
   "execution_count": 82,
   "metadata": {},
   "outputs": [],
   "source": [
    "# Replacing MCC with frequency\n",
    "# def replace_mcc_with_frequency(df):\n",
    "#     df['mcc_frequency'] = df.groupby(['day_of_week', 'hour'])['mcc'].transform(lambda x: x.value_counts().idxmax())\n",
    "#     return df\n",
    "\n",
    "# df = replace_mcc_with_frequency(df)"
   ]
  },
  {
   "cell_type": "code",
   "execution_count": 118,
   "metadata": {},
   "outputs": [],
   "source": [
    "def create_sequences(data, seq_length):\n",
    "    sequences = []\n",
    "    for i in range(len(data) - seq_length):\n",
    "        seq = data[i:i+seq_length]\n",
    "        label = data[i+seq_length]\n",
    "        sequences.append((seq, label))\n",
    "    return sequences\n",
    "\n",
    "def create_sequences_category(data_category, data_mcc, seq_length):\n",
    "    sequences = []\n",
    "    for i in range(len(data_category) - seq_length):\n",
    "        seq = data_category[i:i+seq_length]\n",
    "        label = data_mcc[i+seq_length]\n",
    "        sequences.append((seq, label))\n",
    "    return sequences"
   ]
  },
  {
   "cell_type": "code",
   "execution_count": 119,
   "metadata": {},
   "outputs": [],
   "source": [
    "SEQ_LENGTH = 6"
   ]
  },
  {
   "cell_type": "code",
   "execution_count": 120,
   "metadata": {},
   "outputs": [],
   "source": [
    "# Create sequences\n",
    "# sequences = create_sequences(df['mcc_category_encoded'].values, SEQ_LENGTH)\n",
    "sequences = create_sequences_category(df['mcc_category_encoded'].values, df['mcc_encoded'].values, SEQ_LENGTH)\n",
    "# sequences = create_sequences(df['mcc_frequency'].values, SEQ_LENGTH)"
   ]
  },
  {
   "cell_type": "code",
   "execution_count": 121,
   "metadata": {},
   "outputs": [],
   "source": [
    "# Split into train and test\n",
    "train_sequences, test_sequences = train_test_split(sequences[:int(3e5)], test_size=0.2, random_state=42)"
   ]
  },
  {
   "cell_type": "code",
   "execution_count": 122,
   "metadata": {},
   "outputs": [
    {
     "data": {
      "text/plain": [
       "240000"
      ]
     },
     "execution_count": 122,
     "metadata": {},
     "output_type": "execute_result"
    }
   ],
   "source": [
    "len(train_sequences)"
   ]
  },
  {
   "cell_type": "code",
   "execution_count": 123,
   "metadata": {},
   "outputs": [],
   "source": [
    "class MCCDataset(Dataset):\n",
    "    def __init__(self, sequences):\n",
    "        self.sequences = sequences\n",
    "\n",
    "    def __len__(self):\n",
    "        return len(self.sequences)\n",
    "\n",
    "    def __getitem__(self, idx):\n",
    "        seq, label = self.sequences[idx]\n",
    "        return torch.tensor(seq, dtype=torch.long), torch.tensor(label, dtype=torch.long)"
   ]
  },
  {
   "cell_type": "code",
   "execution_count": 124,
   "metadata": {},
   "outputs": [],
   "source": [
    "train_dataset = MCCDataset(train_sequences)\n",
    "test_dataset = MCCDataset(test_sequences)\n",
    "\n",
    "train_loader = DataLoader(train_dataset, batch_size=128, shuffle=True, num_workers=0)\n",
    "test_loader = DataLoader(test_dataset, batch_size=128, shuffle=False, num_workers=0)"
   ]
  },
  {
   "cell_type": "code",
   "execution_count": 125,
   "metadata": {},
   "outputs": [],
   "source": [
    "# LSTM Model\n",
    "class LSTMModel(nn.Module):\n",
    "    def __init__(self, input_size, output_size, embedding_dim, hidden_dim, num_layers, dropout_prob=0.2):\n",
    "        super(LSTMModel, self).__init__()\n",
    "        self.embedding = nn.Embedding(input_size, embedding_dim)\n",
    "        self.lstm = nn.LSTM(embedding_dim, hidden_dim, num_layers, batch_first=True, dropout=dropout_prob)\n",
    "        self.dropout = nn.Dropout(dropout_prob)\n",
    "        self.fc1 = nn.Linear(hidden_dim, hidden_dim)\n",
    "        self.fc2 = nn.Linear(hidden_dim, output_size)\n",
    "        self.relu = nn.ReLU()\n",
    "\n",
    "    def forward(self, x):\n",
    "        x = self.embedding(x)\n",
    "        x = x.transpose(1, 2)\n",
    "        x = x.transpose(1, 2)\n",
    "        lstm_out, _ = self.lstm(x)\n",
    "        lstm_out = self.dropout(lstm_out[:, -1, :])\n",
    "        x = self.relu(self.fc1(lstm_out))\n",
    "        x = self.dropout(x)\n",
    "        output = self.fc2(x)\n",
    "        return output"
   ]
  },
  {
   "cell_type": "code",
   "execution_count": 126,
   "metadata": {},
   "outputs": [],
   "source": [
    "# Model parameters LSTM\n",
    "# num_tokens = len(label_encoder.classes_)\n",
    "input_size = len(label_encoder_category.classes_)\n",
    "output_size = len(label_encoder_mcc.classes_)\n",
    "# num_tokens = df['mcc_frequency'].nunique()\n",
    "embedding_dim = 256\n",
    "hidden_dim = 256\n",
    "num_layers = 4"
   ]
  },
  {
   "cell_type": "code",
   "execution_count": 128,
   "metadata": {},
   "outputs": [],
   "source": [
    "model = LSTMModel(input_size, output_size, embedding_dim, hidden_dim, num_layers)\n",
    "criterion = nn.CrossEntropyLoss()\n",
    "optimizer = torch.optim.Adam(model.parameters(), lr=0.001)\n",
    "scheduler = torch.optim.lr_scheduler.ReduceLROnPlateau(optimizer, 'min', patience=2, factor=0.5)"
   ]
  },
  {
   "cell_type": "code",
   "execution_count": 129,
   "metadata": {},
   "outputs": [],
   "source": [
    "# Training loop\n",
    "def train(model, train_loader, criterion, optimizer, scheduler, num_epochs=15):\n",
    "    model.train()\n",
    "    for epoch in tqdm(range(num_epochs), total=num_epochs):\n",
    "        total_loss = 0\n",
    "        for seq, label in train_loader:\n",
    "            optimizer.zero_grad()\n",
    "            output = model(seq)\n",
    "            loss = criterion(output, label)\n",
    "            loss.backward()\n",
    "            torch.nn.utils.clip_grad_norm_(model.parameters(), max_norm=1.0)  # Gradient clipping\n",
    "            optimizer.step()\n",
    "            total_loss += loss.item()\n",
    "        \n",
    "        avg_loss = total_loss/len(train_loader)\n",
    "        scheduler.step(avg_loss)\n",
    "        print(f'Epoch {epoch+1}, Loss: {avg_loss}')"
   ]
  },
  {
   "cell_type": "code",
   "execution_count": 130,
   "metadata": {},
   "outputs": [],
   "source": [
    "# Evaluation function\n",
    "def evaluate(model, test_loader):\n",
    "    model.eval()\n",
    "    all_labels = []\n",
    "    all_preds = []\n",
    "    with torch.no_grad():\n",
    "        for seq, label in test_loader:\n",
    "            output = model(seq)\n",
    "            all_labels.extend(label.tolist())\n",
    "            all_preds.append(output)\n",
    "\n",
    "    all_preds = torch.cat(all_preds, dim=0)\n",
    "    all_labels = torch.tensor(all_labels)\n",
    "\n",
    "    # Calculate top-k accuracies\n",
    "    top_k_accuracies = {}\n",
    "    for k in [1, 2, 3, 5]:\n",
    "        top_k_preds = torch.topk(all_preds, k, dim=1).indices\n",
    "        correct = top_k_preds.eq(all_labels.view(-1, 1).expand_as(top_k_preds))\n",
    "        top_k_accuracies[f'acc@{k}'] = correct.any(dim=1).float().mean().item()\n",
    "\n",
    "    return top_k_accuracies"
   ]
  },
  {
   "cell_type": "code",
   "execution_count": 1,
   "metadata": {},
   "outputs": [],
   "source": [
    "# Train the model\n",
    "train(model, train_loader, criterion, optimizer, scheduler)"
   ]
  },
  {
   "cell_type": "markdown",
   "metadata": {},
   "source": [
    "mcc prediction"
   ]
  },
  {
   "cell_type": "code",
   "execution_count": 77,
   "metadata": {},
   "outputs": [
    {
     "name": "stdout",
     "output_type": "stream",
     "text": [
      "acc@1: 0.3464\n",
      "acc@2: 0.5153\n",
      "acc@3: 0.6145\n",
      "acc@5: 0.7125\n"
     ]
    }
   ],
   "source": [
    "# Evaluate the model\n",
    "accuracies = evaluate(model, test_loader)\n",
    "for k, acc in accuracies.items():\n",
    "    print(f'{k}: {acc:.4}')"
   ]
  },
  {
   "cell_type": "markdown",
   "metadata": {},
   "source": [
    "mcc_category prediction"
   ]
  },
  {
   "cell_type": "code",
   "execution_count": 98,
   "metadata": {},
   "outputs": [
    {
     "name": "stdout",
     "output_type": "stream",
     "text": [
      "acc@1: 0.3837\n",
      "acc@2: 0.5777\n",
      "acc@3: 0.6907\n",
      "acc@5: 0.8055\n"
     ]
    }
   ],
   "source": [
    "accuracies = evaluate(model, test_loader)\n",
    "for k, acc in accuracies.items():\n",
    "    print(f'{k}: {acc:.4}')"
   ]
  },
  {
   "cell_type": "markdown",
   "metadata": {},
   "source": [
    "mcc_category -> mcc prediction"
   ]
  },
  {
   "cell_type": "code",
   "execution_count": null,
   "metadata": {},
   "outputs": [],
   "source": [
    "accuracies = evaluate(model, test_loader)\n",
    "for k, acc in accuracies.items():\n",
    "    print(f'{k}: {acc:.4}')"
   ]
  }
 ],
 "metadata": {
  "kernelspec": {
   "display_name": ".venv",
   "language": "python",
   "name": "python3"
  },
  "language_info": {
   "codemirror_mode": {
    "name": "ipython",
    "version": 3
   },
   "file_extension": ".py",
   "mimetype": "text/x-python",
   "name": "python",
   "nbconvert_exporter": "python",
   "pygments_lexer": "ipython3",
   "version": "3.10.7"
  }
 },
 "nbformat": 4,
 "nbformat_minor": 2
}
